{
 "cells": [
  {
   "cell_type": "code",
   "execution_count": 3,
   "id": "a44f45bb-90d9-4d57-8867-d93294ce167d",
   "metadata": {},
   "outputs": [],
   "source": [
    "import numpy as np\n",
    "import pandas as pd\n",
    "import xarray as xr\n",
    "import rasterio\n",
    "import matplotlib.pyplot as plt\n",
    "from joblib import dump, load"
   ]
  },
  {
   "cell_type": "markdown",
   "id": "1ff60e1e-10c3-4061-bc2a-f4063d2401ab",
   "metadata": {},
   "source": [
    "# Get Weather model"
   ]
  },
  {
   "cell_type": "code",
   "execution_count": null,
   "id": "2efb80bb-9f88-4641-b093-1c00636e917b",
   "metadata": {},
   "outputs": [],
   "source": []
  },
  {
   "cell_type": "markdown",
   "id": "2622e174-06bc-4817-bf0f-9ade91ee074b",
   "metadata": {},
   "source": [
    "# Load ML model"
   ]
  },
  {
   "cell_type": "code",
   "execution_count": null,
   "id": "b0782edd-6f5e-480f-8541-455ec43a28db",
   "metadata": {},
   "outputs": [],
   "source": []
  }
 ],
 "metadata": {
  "kernelspec": {
   "display_name": "Python 3 (ipykernel)",
   "language": "python",
   "name": "python3"
  },
  "language_info": {
   "codemirror_mode": {
    "name": "ipython",
    "version": 3
   },
   "file_extension": ".py",
   "mimetype": "text/x-python",
   "name": "python",
   "nbconvert_exporter": "python",
   "pygments_lexer": "ipython3",
   "version": "3.10.8"
  }
 },
 "nbformat": 4,
 "nbformat_minor": 5
}
